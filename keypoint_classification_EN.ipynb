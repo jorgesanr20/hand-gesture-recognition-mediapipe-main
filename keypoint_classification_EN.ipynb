{
  "cells": [
    {
      "cell_type": "code",
      "execution_count": 2,
      "metadata": {
        "id": "igMyGnjE9hEp"
      },
      "outputs": [],
      "source": [
        "import csv\n",
        "\n",
        "import numpy as np\n",
        "import tensorflow as tf\n",
        "from sklearn.model_selection import train_test_split\n",
        "\n",
        "RANDOM_SEED = 42"
      ]
    },
    {
      "cell_type": "markdown",
      "metadata": {
        "id": "t2HDvhIu9hEr"
      },
      "source": [
        "# Specify each path"
      ]
    },
    {
      "cell_type": "code",
      "execution_count": 3,
      "metadata": {
        "id": "9NvZP2Zn9hEy"
      },
      "outputs": [],
      "source": [
        "dataset = 'model/keypoint_classifier/keypoint.csv'\n",
        "model_save_path = 'model/keypoint_classifier/keypoint_classifier.hdf5'\n",
        "tflite_save_path = 'model/keypoint_classifier/keypoint_classifier.tflite'"
      ]
    },
    {
      "cell_type": "markdown",
      "metadata": {
        "id": "s5oMH7x19hEz"
      },
      "source": [
        "# Set number of classes"
      ]
    },
    {
      "cell_type": "code",
      "execution_count": 4,
      "metadata": {
        "id": "du4kodXL9hEz"
      },
      "outputs": [],
      "source": [
        "NUM_CLASSES = 9"
      ]
    },
    {
      "cell_type": "markdown",
      "metadata": {
        "id": "XjnL0uso9hEz"
      },
      "source": [
        "# Dataset reading"
      ]
    },
    {
      "cell_type": "code",
      "execution_count": 5,
      "metadata": {
        "id": "QT5ZqtEz9hE0"
      },
      "outputs": [],
      "source": [
        "X_dataset = np.loadtxt(dataset, delimiter=',', dtype='float32', usecols=list(range(1, (21 * 2) + 1)))"
      ]
    },
    {
      "cell_type": "code",
      "execution_count": 6,
      "metadata": {
        "id": "QmoKFsp49hE0"
      },
      "outputs": [],
      "source": [
        "y_dataset = np.loadtxt(dataset, delimiter=',', dtype='int32', usecols=(0))"
      ]
    },
    {
      "cell_type": "code",
      "execution_count": 7,
      "metadata": {
        "id": "xQU7JTZ_9hE0"
      },
      "outputs": [],
      "source": [
        "X_train, X_test, y_train, y_test = train_test_split(X_dataset, y_dataset, train_size=0.75, random_state=RANDOM_SEED)"
      ]
    },
    {
      "cell_type": "markdown",
      "metadata": {
        "id": "mxK_lETT9hE0"
      },
      "source": [
        "# Model building"
      ]
    },
    {
      "cell_type": "code",
      "execution_count": 8,
      "metadata": {
        "id": "vHBmUf1t9hE1"
      },
      "outputs": [],
      "source": [
        "model = tf.keras.models.Sequential([\n",
        "    tf.keras.layers.Input((21 * 2, )),\n",
        "    tf.keras.layers.Dropout(0.2),\n",
        "    tf.keras.layers.Dense(20, activation='relu'),\n",
        "    tf.keras.layers.Dropout(0.4),\n",
        "    tf.keras.layers.Dense(10, activation='relu'),\n",
        "    tf.keras.layers.Dense(NUM_CLASSES, activation='softmax')\n",
        "])"
      ]
    },
    {
      "cell_type": "code",
      "execution_count": 9,
      "metadata": {
        "colab": {
          "base_uri": "https://localhost:8080/"
        },
        "id": "ypqky9tc9hE1",
        "outputId": "5db082bb-30e3-4110-bf63-a1ee777ecd46"
      },
      "outputs": [
        {
          "name": "stdout",
          "output_type": "stream",
          "text": [
            "Model: \"sequential\"\n",
            "_________________________________________________________________\n",
            " Layer (type)                Output Shape              Param #   \n",
            "=================================================================\n",
            " dropout (Dropout)           (None, 42)                0         \n",
            "                                                                 \n",
            " dense (Dense)               (None, 20)                860       \n",
            "                                                                 \n",
            " dropout_1 (Dropout)         (None, 20)                0         \n",
            "                                                                 \n",
            " dense_1 (Dense)             (None, 10)                210       \n",
            "                                                                 \n",
            " dense_2 (Dense)             (None, 9)                 99        \n",
            "                                                                 \n",
            "=================================================================\n",
            "Total params: 1169 (4.57 KB)\n",
            "Trainable params: 1169 (4.57 KB)\n",
            "Non-trainable params: 0 (0.00 Byte)\n",
            "_________________________________________________________________\n"
          ]
        }
      ],
      "source": [
        "model.summary()  # tf.keras.utils.plot_model(model, show_shapes=True)"
      ]
    },
    {
      "cell_type": "code",
      "execution_count": 10,
      "metadata": {
        "id": "MbMjOflQ9hE1"
      },
      "outputs": [],
      "source": [
        "# Model checkpoint callback\n",
        "cp_callback = tf.keras.callbacks.ModelCheckpoint(\n",
        "    model_save_path, verbose=1, save_weights_only=False)\n",
        "# Callback for early stopping\n",
        "es_callback = tf.keras.callbacks.EarlyStopping(patience=20, verbose=1)"
      ]
    },
    {
      "cell_type": "code",
      "execution_count": 11,
      "metadata": {
        "id": "c3Dac0M_9hE2"
      },
      "outputs": [],
      "source": [
        "# Model compilation\n",
        "model.compile(\n",
        "    optimizer='adam',\n",
        "    loss='sparse_categorical_crossentropy',\n",
        "    metrics=['accuracy']\n",
        ")"
      ]
    },
    {
      "cell_type": "markdown",
      "metadata": {
        "id": "7XI0j1Iu9hE2"
      },
      "source": [
        "# Model training"
      ]
    },
    {
      "cell_type": "code",
      "execution_count": 12,
      "metadata": {
        "colab": {
          "base_uri": "https://localhost:8080/"
        },
        "id": "WirBl-JE9hE3",
        "outputId": "71b30ca2-8294-4d9d-8aa2-800d90d399de",
        "scrolled": true
      },
      "outputs": [
        {
          "name": "stdout",
          "output_type": "stream",
          "text": [
            "Epoch 1/1000\n",
            "41/51 [=======================>......] - ETA: 0s - loss: 2.2184 - accuracy: 0.1355\n",
            "Epoch 1: saving model to model/keypoint_classifier\\keypoint_classifier.hdf5\n",
            "51/51 [==============================] - 1s 9ms/step - loss: 2.1915 - accuracy: 0.1497 - val_loss: 2.0440 - val_accuracy: 0.3454\n",
            "Epoch 2/1000\n",
            "41/51 [=======================>......] - ETA: 0s - loss: 2.0413 - accuracy: 0.2506"
          ]
        },
        {
          "name": "stderr",
          "output_type": "stream",
          "text": [
            "C:\\Users\\jorge\\AppData\\Roaming\\Python\\Python38\\site-packages\\keras\\src\\engine\\training.py:3000: UserWarning: You are saving your model as an HDF5 file via `model.save()`. This file format is considered legacy. We recommend using instead the native Keras format, e.g. `model.save('my_model.keras')`.\n",
            "  saving_api.save_model(\n"
          ]
        },
        {
          "name": "stdout",
          "output_type": "stream",
          "text": [
            "\n",
            "Epoch 2: saving model to model/keypoint_classifier\\keypoint_classifier.hdf5\n",
            "51/51 [==============================] - 0s 4ms/step - loss: 2.0313 - accuracy: 0.2546 - val_loss: 1.9121 - val_accuracy: 0.3523\n",
            "Epoch 3/1000\n",
            "45/51 [=========================>....] - ETA: 0s - loss: 1.9365 - accuracy: 0.2840\n",
            "Epoch 3: saving model to model/keypoint_classifier\\keypoint_classifier.hdf5\n",
            "51/51 [==============================] - 0s 5ms/step - loss: 1.9323 - accuracy: 0.2853 - val_loss: 1.7999 - val_accuracy: 0.3620\n",
            "Epoch 4/1000\n",
            "44/51 [========================>.....] - ETA: 0s - loss: 1.8501 - accuracy: 0.3178\n",
            "Epoch 4: saving model to model/keypoint_classifier\\keypoint_classifier.hdf5\n",
            "51/51 [==============================] - 0s 4ms/step - loss: 1.8463 - accuracy: 0.3212 - val_loss: 1.6976 - val_accuracy: 0.3781\n",
            "Epoch 5/1000\n",
            "42/51 [=======================>......] - ETA: 0s - loss: 1.7925 - accuracy: 0.3326\n",
            "Epoch 5: saving model to model/keypoint_classifier\\keypoint_classifier.hdf5\n",
            "51/51 [==============================] - 0s 5ms/step - loss: 1.7880 - accuracy: 0.3362 - val_loss: 1.6047 - val_accuracy: 0.4328\n",
            "Epoch 6/1000\n",
            "43/51 [========================>.....] - ETA: 0s - loss: 1.7376 - accuracy: 0.3554\n",
            "Epoch 6: saving model to model/keypoint_classifier\\keypoint_classifier.hdf5\n",
            "51/51 [==============================] - 0s 5ms/step - loss: 1.7347 - accuracy: 0.3546 - val_loss: 1.5304 - val_accuracy: 0.5350\n",
            "Epoch 7/1000\n",
            "45/51 [=========================>....] - ETA: 0s - loss: 1.6907 - accuracy: 0.3700\n",
            "Epoch 7: saving model to model/keypoint_classifier\\keypoint_classifier.hdf5\n",
            "51/51 [==============================] - 0s 4ms/step - loss: 1.6930 - accuracy: 0.3678 - val_loss: 1.4577 - val_accuracy: 0.5460\n",
            "Epoch 8/1000\n",
            "45/51 [=========================>....] - ETA: 0s - loss: 1.6297 - accuracy: 0.3939\n",
            "Epoch 8: saving model to model/keypoint_classifier\\keypoint_classifier.hdf5\n",
            "51/51 [==============================] - 0s 4ms/step - loss: 1.6285 - accuracy: 0.3948 - val_loss: 1.3810 - val_accuracy: 0.5593\n",
            "Epoch 9/1000\n",
            "44/51 [========================>.....] - ETA: 0s - loss: 1.5979 - accuracy: 0.4089\n",
            "Epoch 9: saving model to model/keypoint_classifier\\keypoint_classifier.hdf5\n",
            "51/51 [==============================] - 0s 4ms/step - loss: 1.5948 - accuracy: 0.4064 - val_loss: 1.3381 - val_accuracy: 0.5681\n",
            "Epoch 10/1000\n",
            "36/51 [====================>.........] - ETA: 0s - loss: 1.5655 - accuracy: 0.4089\n",
            "Epoch 10: saving model to model/keypoint_classifier\\keypoint_classifier.hdf5\n",
            "51/51 [==============================] - 0s 5ms/step - loss: 1.5553 - accuracy: 0.4155 - val_loss: 1.2729 - val_accuracy: 0.6233\n",
            "Epoch 11/1000\n",
            "34/51 [===================>..........] - ETA: 0s - loss: 1.5450 - accuracy: 0.4223\n",
            "Epoch 11: saving model to model/keypoint_classifier\\keypoint_classifier.hdf5\n",
            "51/51 [==============================] - 0s 5ms/step - loss: 1.5355 - accuracy: 0.4250 - val_loss: 1.2356 - val_accuracy: 0.6343\n",
            "Epoch 12/1000\n",
            "41/51 [=======================>......] - ETA: 0s - loss: 1.5125 - accuracy: 0.4398\n",
            "Epoch 12: saving model to model/keypoint_classifier\\keypoint_classifier.hdf5\n",
            "51/51 [==============================] - 0s 4ms/step - loss: 1.5023 - accuracy: 0.4443 - val_loss: 1.1901 - val_accuracy: 0.6559\n",
            "Epoch 13/1000\n",
            "48/51 [===========================>..] - ETA: 0s - loss: 1.4830 - accuracy: 0.4473\n",
            "Epoch 13: saving model to model/keypoint_classifier\\keypoint_classifier.hdf5\n",
            "51/51 [==============================] - 0s 4ms/step - loss: 1.4833 - accuracy: 0.4495 - val_loss: 1.1606 - val_accuracy: 0.6757\n",
            "Epoch 14/1000\n",
            "43/51 [========================>.....] - ETA: 0s - loss: 1.4609 - accuracy: 0.4586\n",
            "Epoch 14: saving model to model/keypoint_classifier\\keypoint_classifier.hdf5\n",
            "51/51 [==============================] - 0s 4ms/step - loss: 1.4595 - accuracy: 0.4630 - val_loss: 1.1285 - val_accuracy: 0.6964\n",
            "Epoch 15/1000\n",
            "47/51 [==========================>...] - ETA: 0s - loss: 1.4553 - accuracy: 0.4663\n",
            "Epoch 15: saving model to model/keypoint_classifier\\keypoint_classifier.hdf5\n",
            "51/51 [==============================] - 0s 3ms/step - loss: 1.4562 - accuracy: 0.4667 - val_loss: 1.0960 - val_accuracy: 0.7401\n",
            "Epoch 16/1000\n",
            "42/51 [=======================>......] - ETA: 0s - loss: 1.4294 - accuracy: 0.4741\n",
            "Epoch 16: saving model to model/keypoint_classifier\\keypoint_classifier.hdf5\n",
            "51/51 [==============================] - 0s 4ms/step - loss: 1.4239 - accuracy: 0.4779 - val_loss: 1.0764 - val_accuracy: 0.7967\n",
            "Epoch 17/1000\n",
            "41/51 [=======================>......] - ETA: 0s - loss: 1.4261 - accuracy: 0.4731\n",
            "Epoch 17: saving model to model/keypoint_classifier\\keypoint_classifier.hdf5\n",
            "51/51 [==============================] - 0s 5ms/step - loss: 1.4179 - accuracy: 0.4784 - val_loss: 1.0500 - val_accuracy: 0.7925\n",
            "Epoch 18/1000\n",
            "51/51 [==============================] - ETA: 0s - loss: 1.3795 - accuracy: 0.4942\n",
            "Epoch 18: saving model to model/keypoint_classifier\\keypoint_classifier.hdf5\n",
            "51/51 [==============================] - 0s 3ms/step - loss: 1.3795 - accuracy: 0.4942 - val_loss: 1.0058 - val_accuracy: 0.7935\n",
            "Epoch 19/1000\n",
            "26/51 [==============>...............] - ETA: 0s - loss: 1.3963 - accuracy: 0.4766\n",
            "Epoch 19: saving model to model/keypoint_classifier\\keypoint_classifier.hdf5\n",
            "51/51 [==============================] - 0s 3ms/step - loss: 1.3789 - accuracy: 0.4894 - val_loss: 0.9911 - val_accuracy: 0.8096\n",
            "Epoch 20/1000\n",
            "51/51 [==============================] - ETA: 0s - loss: 1.3946 - accuracy: 0.4936\n",
            "Epoch 20: saving model to model/keypoint_classifier\\keypoint_classifier.hdf5\n",
            "51/51 [==============================] - 0s 6ms/step - loss: 1.3946 - accuracy: 0.4936 - val_loss: 0.9899 - val_accuracy: 0.8261\n",
            "Epoch 21/1000\n",
            "36/51 [====================>.........] - ETA: 0s - loss: 1.3355 - accuracy: 0.5050\n",
            "Epoch 21: saving model to model/keypoint_classifier\\keypoint_classifier.hdf5\n",
            "51/51 [==============================] - 0s 5ms/step - loss: 1.3445 - accuracy: 0.5023 - val_loss: 0.9608 - val_accuracy: 0.8284\n",
            "Epoch 22/1000\n",
            "36/51 [====================>.........] - ETA: 0s - loss: 1.3432 - accuracy: 0.5043\n",
            "Epoch 22: saving model to model/keypoint_classifier\\keypoint_classifier.hdf5\n",
            "51/51 [==============================] - 0s 4ms/step - loss: 1.3481 - accuracy: 0.5011 - val_loss: 0.9447 - val_accuracy: 0.8229\n",
            "Epoch 23/1000\n",
            "50/51 [============================>.] - ETA: 0s - loss: 1.3165 - accuracy: 0.5231\n",
            "Epoch 23: saving model to model/keypoint_classifier\\keypoint_classifier.hdf5\n",
            "51/51 [==============================] - 0s 4ms/step - loss: 1.3212 - accuracy: 0.5219 - val_loss: 0.9285 - val_accuracy: 0.8344\n",
            "Epoch 24/1000\n",
            "49/51 [===========================>..] - ETA: 0s - loss: 1.3196 - accuracy: 0.5155\n",
            "Epoch 24: saving model to model/keypoint_classifier\\keypoint_classifier.hdf5\n",
            "51/51 [==============================] - 0s 4ms/step - loss: 1.3195 - accuracy: 0.5155 - val_loss: 0.9100 - val_accuracy: 0.8519\n",
            "Epoch 25/1000\n",
            "24/51 [=============>................] - ETA: 0s - loss: 1.3064 - accuracy: 0.5094\n",
            "Epoch 25: saving model to model/keypoint_classifier\\keypoint_classifier.hdf5\n",
            "51/51 [==============================] - 0s 3ms/step - loss: 1.2991 - accuracy: 0.5146 - val_loss: 0.8910 - val_accuracy: 0.8583\n",
            "Epoch 26/1000\n",
            "28/51 [===============>..............] - ETA: 0s - loss: 1.3128 - accuracy: 0.5265\n",
            "Epoch 26: saving model to model/keypoint_classifier\\keypoint_classifier.hdf5\n",
            "51/51 [==============================] - 0s 3ms/step - loss: 1.3085 - accuracy: 0.5216 - val_loss: 0.8754 - val_accuracy: 0.8556\n",
            "Epoch 27/1000\n",
            "26/51 [==============>...............] - ETA: 0s - loss: 1.2915 - accuracy: 0.5367\n",
            "Epoch 27: saving model to model/keypoint_classifier\\keypoint_classifier.hdf5\n",
            "51/51 [==============================] - 0s 3ms/step - loss: 1.2946 - accuracy: 0.5363 - val_loss: 0.8680 - val_accuracy: 0.8680\n",
            "Epoch 28/1000\n",
            "26/51 [==============>...............] - ETA: 0s - loss: 1.2874 - accuracy: 0.5288\n",
            "Epoch 28: saving model to model/keypoint_classifier\\keypoint_classifier.hdf5\n",
            "51/51 [==============================] - 0s 3ms/step - loss: 1.2761 - accuracy: 0.5351 - val_loss: 0.8490 - val_accuracy: 0.8703\n",
            "Epoch 29/1000\n",
            "28/51 [===============>..............] - ETA: 0s - loss: 1.2721 - accuracy: 0.5424\n",
            "Epoch 29: saving model to model/keypoint_classifier\\keypoint_classifier.hdf5\n",
            "51/51 [==============================] - 0s 3ms/step - loss: 1.2754 - accuracy: 0.5363 - val_loss: 0.8349 - val_accuracy: 0.8717\n",
            "Epoch 30/1000\n",
            "26/51 [==============>...............] - ETA: 0s - loss: 1.2553 - accuracy: 0.5424\n",
            "Epoch 30: saving model to model/keypoint_classifier\\keypoint_classifier.hdf5\n",
            "51/51 [==============================] - 0s 3ms/step - loss: 1.2498 - accuracy: 0.5425 - val_loss: 0.8260 - val_accuracy: 0.8707\n",
            "Epoch 31/1000\n",
            "51/51 [==============================] - ETA: 0s - loss: 1.2535 - accuracy: 0.5460\n",
            "Epoch 31: saving model to model/keypoint_classifier\\keypoint_classifier.hdf5\n",
            "51/51 [==============================] - 0s 3ms/step - loss: 1.2535 - accuracy: 0.5460 - val_loss: 0.8078 - val_accuracy: 0.8781\n",
            "Epoch 32/1000\n",
            "51/51 [==============================] - ETA: 0s - loss: 1.2589 - accuracy: 0.5428\n",
            "Epoch 32: saving model to model/keypoint_classifier\\keypoint_classifier.hdf5\n",
            "51/51 [==============================] - 0s 3ms/step - loss: 1.2589 - accuracy: 0.5428 - val_loss: 0.8050 - val_accuracy: 0.8942\n",
            "Epoch 33/1000\n",
            "25/51 [=============>................] - ETA: 0s - loss: 1.2518 - accuracy: 0.5478\n",
            "Epoch 33: saving model to model/keypoint_classifier\\keypoint_classifier.hdf5\n",
            "51/51 [==============================] - 0s 3ms/step - loss: 1.2359 - accuracy: 0.5515 - val_loss: 0.7902 - val_accuracy: 0.8905\n",
            "Epoch 34/1000\n",
            "32/51 [=================>............] - ETA: 0s - loss: 1.2421 - accuracy: 0.5544\n",
            "Epoch 34: saving model to model/keypoint_classifier\\keypoint_classifier.hdf5\n",
            "51/51 [==============================] - 0s 4ms/step - loss: 1.2237 - accuracy: 0.5597 - val_loss: 0.7836 - val_accuracy: 0.8937\n",
            "Epoch 35/1000\n",
            "49/51 [===========================>..] - ETA: 0s - loss: 1.2238 - accuracy: 0.5555\n",
            "Epoch 35: saving model to model/keypoint_classifier\\keypoint_classifier.hdf5\n",
            "51/51 [==============================] - 0s 4ms/step - loss: 1.2238 - accuracy: 0.5564 - val_loss: 0.7832 - val_accuracy: 0.8942\n",
            "Epoch 36/1000\n",
            "45/51 [=========================>....] - ETA: 0s - loss: 1.2063 - accuracy: 0.5717\n",
            "Epoch 36: saving model to model/keypoint_classifier\\keypoint_classifier.hdf5\n",
            "51/51 [==============================] - 0s 4ms/step - loss: 1.2080 - accuracy: 0.5686 - val_loss: 0.7634 - val_accuracy: 0.8970\n",
            "Epoch 37/1000\n",
            "27/51 [==============>...............] - ETA: 0s - loss: 1.2090 - accuracy: 0.5602\n",
            "Epoch 37: saving model to model/keypoint_classifier\\keypoint_classifier.hdf5\n",
            "51/51 [==============================] - 0s 3ms/step - loss: 1.2168 - accuracy: 0.5572 - val_loss: 0.7777 - val_accuracy: 0.9002\n",
            "Epoch 38/1000\n",
            "50/51 [============================>.] - ETA: 0s - loss: 1.1969 - accuracy: 0.5655\n",
            "Epoch 38: saving model to model/keypoint_classifier\\keypoint_classifier.hdf5\n",
            "51/51 [==============================] - 0s 3ms/step - loss: 1.1999 - accuracy: 0.5641 - val_loss: 0.7487 - val_accuracy: 0.9163\n",
            "Epoch 39/1000\n",
            "51/51 [==============================] - ETA: 0s - loss: 1.2010 - accuracy: 0.5629\n",
            "Epoch 39: saving model to model/keypoint_classifier\\keypoint_classifier.hdf5\n",
            "51/51 [==============================] - 0s 4ms/step - loss: 1.2010 - accuracy: 0.5629 - val_loss: 0.7455 - val_accuracy: 0.9016\n",
            "Epoch 40/1000\n",
            "26/51 [==============>...............] - ETA: 0s - loss: 1.1856 - accuracy: 0.5712\n",
            "Epoch 40: saving model to model/keypoint_classifier\\keypoint_classifier.hdf5\n",
            "51/51 [==============================] - 0s 3ms/step - loss: 1.1878 - accuracy: 0.5739 - val_loss: 0.7404 - val_accuracy: 0.9039\n",
            "Epoch 41/1000\n",
            "26/51 [==============>...............] - ETA: 0s - loss: 1.1821 - accuracy: 0.5673\n",
            "Epoch 41: saving model to model/keypoint_classifier\\keypoint_classifier.hdf5\n",
            "51/51 [==============================] - 0s 3ms/step - loss: 1.1939 - accuracy: 0.5676 - val_loss: 0.7308 - val_accuracy: 0.9098\n",
            "Epoch 42/1000\n",
            "29/51 [================>.............] - ETA: 0s - loss: 1.1836 - accuracy: 0.5703\n",
            "Epoch 42: saving model to model/keypoint_classifier\\keypoint_classifier.hdf5\n",
            "51/51 [==============================] - 0s 3ms/step - loss: 1.1702 - accuracy: 0.5799 - val_loss: 0.7244 - val_accuracy: 0.9204\n",
            "Epoch 43/1000\n",
            "28/51 [===============>..............] - ETA: 0s - loss: 1.1741 - accuracy: 0.5762\n",
            "Epoch 43: saving model to model/keypoint_classifier\\keypoint_classifier.hdf5\n",
            "51/51 [==============================] - 0s 3ms/step - loss: 1.1806 - accuracy: 0.5701 - val_loss: 0.7169 - val_accuracy: 0.9204\n",
            "Epoch 44/1000\n",
            "27/51 [==============>...............] - ETA: 0s - loss: 1.1529 - accuracy: 0.5938\n",
            "Epoch 44: saving model to model/keypoint_classifier\\keypoint_classifier.hdf5\n",
            "51/51 [==============================] - 0s 3ms/step - loss: 1.1550 - accuracy: 0.5885 - val_loss: 0.7057 - val_accuracy: 0.9177\n",
            "Epoch 45/1000\n",
            "30/51 [================>.............] - ETA: 0s - loss: 1.1729 - accuracy: 0.5779\n",
            "Epoch 45: saving model to model/keypoint_classifier\\keypoint_classifier.hdf5\n",
            "51/51 [==============================] - 0s 3ms/step - loss: 1.1606 - accuracy: 0.5821 - val_loss: 0.7106 - val_accuracy: 0.9163\n",
            "Epoch 46/1000\n",
            "29/51 [================>.............] - ETA: 0s - loss: 1.1464 - accuracy: 0.5900\n",
            "Epoch 46: saving model to model/keypoint_classifier\\keypoint_classifier.hdf5\n",
            "51/51 [==============================] - 0s 3ms/step - loss: 1.1421 - accuracy: 0.5913 - val_loss: 0.6918 - val_accuracy: 0.9186\n",
            "Epoch 47/1000\n",
            "29/51 [================>.............] - ETA: 0s - loss: 1.1765 - accuracy: 0.5862\n",
            "Epoch 47: saving model to model/keypoint_classifier\\keypoint_classifier.hdf5\n",
            "51/51 [==============================] - 0s 3ms/step - loss: 1.1775 - accuracy: 0.5842 - val_loss: 0.7100 - val_accuracy: 0.9167\n",
            "Epoch 48/1000\n",
            "29/51 [================>.............] - ETA: 0s - loss: 1.1534 - accuracy: 0.5849\n",
            "Epoch 48: saving model to model/keypoint_classifier\\keypoint_classifier.hdf5\n",
            "51/51 [==============================] - 0s 3ms/step - loss: 1.1640 - accuracy: 0.5854 - val_loss: 0.6946 - val_accuracy: 0.9158\n",
            "Epoch 49/1000\n",
            "50/51 [============================>.] - ETA: 0s - loss: 1.1349 - accuracy: 0.5950\n",
            "Epoch 49: saving model to model/keypoint_classifier\\keypoint_classifier.hdf5\n",
            "51/51 [==============================] - 0s 4ms/step - loss: 1.1355 - accuracy: 0.5940 - val_loss: 0.6650 - val_accuracy: 0.9200\n",
            "Epoch 50/1000\n",
            "45/51 [=========================>....] - ETA: 0s - loss: 1.1381 - accuracy: 0.5868\n",
            "Epoch 50: saving model to model/keypoint_classifier\\keypoint_classifier.hdf5\n",
            "51/51 [==============================] - 0s 4ms/step - loss: 1.1302 - accuracy: 0.5890 - val_loss: 0.6606 - val_accuracy: 0.9204\n",
            "Epoch 51/1000\n",
            "42/51 [=======================>......] - ETA: 0s - loss: 1.1617 - accuracy: 0.5882\n",
            "Epoch 51: saving model to model/keypoint_classifier\\keypoint_classifier.hdf5\n",
            "51/51 [==============================] - 0s 4ms/step - loss: 1.1595 - accuracy: 0.5923 - val_loss: 0.6848 - val_accuracy: 0.9177\n",
            "Epoch 52/1000\n",
            "28/51 [===============>..............] - ETA: 0s - loss: 1.1218 - accuracy: 0.6066\n",
            "Epoch 52: saving model to model/keypoint_classifier\\keypoint_classifier.hdf5\n",
            "51/51 [==============================] - 0s 3ms/step - loss: 1.1346 - accuracy: 0.6018 - val_loss: 0.6689 - val_accuracy: 0.9181\n",
            "Epoch 53/1000\n",
            "28/51 [===============>..............] - ETA: 0s - loss: 1.1497 - accuracy: 0.5851\n",
            "Epoch 53: saving model to model/keypoint_classifier\\keypoint_classifier.hdf5\n",
            "51/51 [==============================] - 0s 3ms/step - loss: 1.1392 - accuracy: 0.5908 - val_loss: 0.6774 - val_accuracy: 0.9163\n",
            "Epoch 54/1000\n",
            "27/51 [==============>...............] - ETA: 0s - loss: 1.1430 - accuracy: 0.5888\n",
            "Epoch 54: saving model to model/keypoint_classifier\\keypoint_classifier.hdf5\n",
            "51/51 [==============================] - 0s 3ms/step - loss: 1.1444 - accuracy: 0.5939 - val_loss: 0.6699 - val_accuracy: 0.9218\n",
            "Epoch 55/1000\n",
            "27/51 [==============>...............] - ETA: 0s - loss: 1.1123 - accuracy: 0.6042\n",
            "Epoch 55: saving model to model/keypoint_classifier\\keypoint_classifier.hdf5\n",
            "51/51 [==============================] - 0s 3ms/step - loss: 1.1154 - accuracy: 0.6002 - val_loss: 0.6734 - val_accuracy: 0.9163\n",
            "Epoch 56/1000\n",
            "27/51 [==============>...............] - ETA: 0s - loss: 1.1424 - accuracy: 0.5969\n",
            "Epoch 56: saving model to model/keypoint_classifier\\keypoint_classifier.hdf5\n",
            "51/51 [==============================] - 0s 3ms/step - loss: 1.1326 - accuracy: 0.5985 - val_loss: 0.6690 - val_accuracy: 0.9301\n",
            "Epoch 57/1000\n",
            "27/51 [==============>...............] - ETA: 0s - loss: 1.1192 - accuracy: 0.5935\n",
            "Epoch 57: saving model to model/keypoint_classifier\\keypoint_classifier.hdf5\n",
            "51/51 [==============================] - 0s 3ms/step - loss: 1.1247 - accuracy: 0.5900 - val_loss: 0.6802 - val_accuracy: 0.9181\n",
            "Epoch 58/1000\n",
            "27/51 [==============>...............] - ETA: 0s - loss: 1.1208 - accuracy: 0.5897\n",
            "Epoch 58: saving model to model/keypoint_classifier\\keypoint_classifier.hdf5\n",
            "51/51 [==============================] - 0s 3ms/step - loss: 1.1142 - accuracy: 0.6003 - val_loss: 0.6707 - val_accuracy: 0.9236\n",
            "Epoch 59/1000\n",
            "27/51 [==============>...............] - ETA: 0s - loss: 1.1019 - accuracy: 0.6140\n",
            "Epoch 59: saving model to model/keypoint_classifier\\keypoint_classifier.hdf5\n",
            "51/51 [==============================] - 0s 3ms/step - loss: 1.1024 - accuracy: 0.6113 - val_loss: 0.6357 - val_accuracy: 0.9287\n",
            "Epoch 60/1000\n",
            "29/51 [================>.............] - ETA: 0s - loss: 1.1239 - accuracy: 0.6024\n",
            "Epoch 60: saving model to model/keypoint_classifier\\keypoint_classifier.hdf5\n",
            "51/51 [==============================] - 0s 3ms/step - loss: 1.1036 - accuracy: 0.6080 - val_loss: 0.6459 - val_accuracy: 0.9236\n",
            "Epoch 61/1000\n",
            "27/51 [==============>...............] - ETA: 0s - loss: 1.0927 - accuracy: 0.6047\n",
            "Epoch 61: saving model to model/keypoint_classifier\\keypoint_classifier.hdf5\n",
            "51/51 [==============================] - 0s 3ms/step - loss: 1.0911 - accuracy: 0.6072 - val_loss: 0.6341 - val_accuracy: 0.9287\n",
            "Epoch 62/1000\n",
            "30/51 [================>.............] - ETA: 0s - loss: 1.0953 - accuracy: 0.6062\n",
            "Epoch 62: saving model to model/keypoint_classifier\\keypoint_classifier.hdf5\n",
            "51/51 [==============================] - 0s 3ms/step - loss: 1.0959 - accuracy: 0.6080 - val_loss: 0.6336 - val_accuracy: 0.9273\n",
            "Epoch 63/1000\n",
            "28/51 [===============>..............] - ETA: 0s - loss: 1.1051 - accuracy: 0.6133\n",
            "Epoch 63: saving model to model/keypoint_classifier\\keypoint_classifier.hdf5\n",
            "51/51 [==============================] - 0s 3ms/step - loss: 1.1016 - accuracy: 0.6141 - val_loss: 0.6446 - val_accuracy: 0.9241\n",
            "Epoch 64/1000\n",
            "51/51 [==============================] - ETA: 0s - loss: 1.0890 - accuracy: 0.6124\n",
            "Epoch 64: saving model to model/keypoint_classifier\\keypoint_classifier.hdf5\n",
            "51/51 [==============================] - 0s 3ms/step - loss: 1.0890 - accuracy: 0.6124 - val_loss: 0.6267 - val_accuracy: 0.9278\n",
            "Epoch 65/1000\n",
            "27/51 [==============>...............] - ETA: 0s - loss: 1.1026 - accuracy: 0.6128\n",
            "Epoch 65: saving model to model/keypoint_classifier\\keypoint_classifier.hdf5\n",
            "51/51 [==============================] - 0s 3ms/step - loss: 1.0870 - accuracy: 0.6133 - val_loss: 0.6254 - val_accuracy: 0.9333\n",
            "Epoch 66/1000\n",
            "51/51 [==============================] - ETA: 0s - loss: 1.0819 - accuracy: 0.6193\n",
            "Epoch 66: saving model to model/keypoint_classifier\\keypoint_classifier.hdf5\n",
            "51/51 [==============================] - 0s 3ms/step - loss: 1.0819 - accuracy: 0.6193 - val_loss: 0.6348 - val_accuracy: 0.9269\n",
            "Epoch 67/1000\n",
            "27/51 [==============>...............] - ETA: 0s - loss: 1.0766 - accuracy: 0.6178\n",
            "Epoch 67: saving model to model/keypoint_classifier\\keypoint_classifier.hdf5\n",
            "51/51 [==============================] - 0s 3ms/step - loss: 1.0876 - accuracy: 0.6140 - val_loss: 0.6311 - val_accuracy: 0.9264\n",
            "Epoch 68/1000\n",
            "28/51 [===============>..............] - ETA: 0s - loss: 1.0600 - accuracy: 0.6177\n",
            "Epoch 68: saving model to model/keypoint_classifier\\keypoint_classifier.hdf5\n",
            "51/51 [==============================] - 0s 3ms/step - loss: 1.0679 - accuracy: 0.6160 - val_loss: 0.6162 - val_accuracy: 0.9223\n",
            "Epoch 69/1000\n",
            "26/51 [==============>...............] - ETA: 0s - loss: 1.0753 - accuracy: 0.6187\n",
            "Epoch 69: saving model to model/keypoint_classifier\\keypoint_classifier.hdf5\n",
            "51/51 [==============================] - 0s 4ms/step - loss: 1.0592 - accuracy: 0.6215 - val_loss: 0.6081 - val_accuracy: 0.9255\n",
            "Epoch 70/1000\n",
            "47/51 [==========================>...] - ETA: 0s - loss: 1.0655 - accuracy: 0.6142\n",
            "Epoch 70: saving model to model/keypoint_classifier\\keypoint_classifier.hdf5\n",
            "51/51 [==============================] - 0s 4ms/step - loss: 1.0655 - accuracy: 0.6126 - val_loss: 0.6108 - val_accuracy: 0.9209\n",
            "Epoch 71/1000\n",
            "28/51 [===============>..............] - ETA: 0s - loss: 1.0535 - accuracy: 0.6244\n",
            "Epoch 71: saving model to model/keypoint_classifier\\keypoint_classifier.hdf5\n",
            "51/51 [==============================] - 0s 3ms/step - loss: 1.0677 - accuracy: 0.6202 - val_loss: 0.6319 - val_accuracy: 0.9236\n",
            "Epoch 72/1000\n",
            "26/51 [==============>...............] - ETA: 0s - loss: 1.0729 - accuracy: 0.6211\n",
            "Epoch 72: saving model to model/keypoint_classifier\\keypoint_classifier.hdf5\n",
            "51/51 [==============================] - 0s 4ms/step - loss: 1.0734 - accuracy: 0.6176 - val_loss: 0.6169 - val_accuracy: 0.9213\n",
            "Epoch 73/1000\n",
            "51/51 [==============================] - ETA: 0s - loss: 1.0694 - accuracy: 0.6207\n",
            "Epoch 73: saving model to model/keypoint_classifier\\keypoint_classifier.hdf5\n",
            "51/51 [==============================] - 0s 3ms/step - loss: 1.0694 - accuracy: 0.6207 - val_loss: 0.6141 - val_accuracy: 0.9255\n",
            "Epoch 74/1000\n",
            "30/51 [================>.............] - ETA: 0s - loss: 1.0935 - accuracy: 0.6065\n",
            "Epoch 74: saving model to model/keypoint_classifier\\keypoint_classifier.hdf5\n",
            "51/51 [==============================] - 0s 3ms/step - loss: 1.0577 - accuracy: 0.6224 - val_loss: 0.6136 - val_accuracy: 0.9204\n",
            "Epoch 75/1000\n",
            "47/51 [==========================>...] - ETA: 0s - loss: 1.0530 - accuracy: 0.6233\n",
            "Epoch 75: saving model to model/keypoint_classifier\\keypoint_classifier.hdf5\n",
            "51/51 [==============================] - 0s 4ms/step - loss: 1.0510 - accuracy: 0.6253 - val_loss: 0.5998 - val_accuracy: 0.9278\n",
            "Epoch 76/1000\n",
            "28/51 [===============>..............] - ETA: 0s - loss: 1.0349 - accuracy: 0.6317\n",
            "Epoch 76: saving model to model/keypoint_classifier\\keypoint_classifier.hdf5\n",
            "51/51 [==============================] - 0s 4ms/step - loss: 1.0509 - accuracy: 0.6296 - val_loss: 0.6254 - val_accuracy: 0.9108\n",
            "Epoch 77/1000\n",
            "26/51 [==============>...............] - ETA: 0s - loss: 1.0272 - accuracy: 0.6316\n",
            "Epoch 77: saving model to model/keypoint_classifier\\keypoint_classifier.hdf5\n",
            "51/51 [==============================] - 0s 3ms/step - loss: 1.0516 - accuracy: 0.6206 - val_loss: 0.6071 - val_accuracy: 0.9296\n",
            "Epoch 78/1000\n",
            "51/51 [==============================] - ETA: 0s - loss: 1.0456 - accuracy: 0.6196\n",
            "Epoch 78: saving model to model/keypoint_classifier\\keypoint_classifier.hdf5\n",
            "51/51 [==============================] - 0s 4ms/step - loss: 1.0456 - accuracy: 0.6196 - val_loss: 0.6136 - val_accuracy: 0.9227\n",
            "Epoch 79/1000\n",
            "45/51 [=========================>....] - ETA: 0s - loss: 1.0446 - accuracy: 0.6201\n",
            "Epoch 79: saving model to model/keypoint_classifier\\keypoint_classifier.hdf5\n",
            "51/51 [==============================] - 0s 4ms/step - loss: 1.0423 - accuracy: 0.6212 - val_loss: 0.6191 - val_accuracy: 0.9204\n",
            "Epoch 80/1000\n",
            "28/51 [===============>..............] - ETA: 0s - loss: 1.0501 - accuracy: 0.6230\n",
            "Epoch 80: saving model to model/keypoint_classifier\\keypoint_classifier.hdf5\n",
            "51/51 [==============================] - 0s 3ms/step - loss: 1.0311 - accuracy: 0.6331 - val_loss: 0.6038 - val_accuracy: 0.9328\n",
            "Epoch 81/1000\n",
            "44/51 [========================>.....] - ETA: 0s - loss: 1.0235 - accuracy: 0.6341\n",
            "Epoch 81: saving model to model/keypoint_classifier\\keypoint_classifier.hdf5\n",
            "51/51 [==============================] - 0s 4ms/step - loss: 1.0262 - accuracy: 0.6310 - val_loss: 0.5963 - val_accuracy: 0.9259\n",
            "Epoch 82/1000\n",
            "27/51 [==============>...............] - ETA: 0s - loss: 1.0427 - accuracy: 0.6250\n",
            "Epoch 82: saving model to model/keypoint_classifier\\keypoint_classifier.hdf5\n",
            "51/51 [==============================] - 0s 3ms/step - loss: 1.0587 - accuracy: 0.6160 - val_loss: 0.6184 - val_accuracy: 0.9236\n",
            "Epoch 83/1000\n",
            "28/51 [===============>..............] - ETA: 0s - loss: 1.0336 - accuracy: 0.6317\n",
            "Epoch 83: saving model to model/keypoint_classifier\\keypoint_classifier.hdf5\n",
            "51/51 [==============================] - 0s 3ms/step - loss: 1.0260 - accuracy: 0.6385 - val_loss: 0.6128 - val_accuracy: 0.9186\n",
            "Epoch 84/1000\n",
            "48/51 [===========================>..] - ETA: 0s - loss: 1.0109 - accuracy: 0.6413\n",
            "Epoch 84: saving model to model/keypoint_classifier\\keypoint_classifier.hdf5\n",
            "51/51 [==============================] - 0s 4ms/step - loss: 1.0156 - accuracy: 0.6382 - val_loss: 0.6060 - val_accuracy: 0.9154\n",
            "Epoch 85/1000\n",
            "28/51 [===============>..............] - ETA: 0s - loss: 1.0457 - accuracy: 0.6342\n",
            "Epoch 85: saving model to model/keypoint_classifier\\keypoint_classifier.hdf5\n",
            "51/51 [==============================] - 0s 3ms/step - loss: 1.0363 - accuracy: 0.6307 - val_loss: 0.6118 - val_accuracy: 0.9103\n",
            "Epoch 86/1000\n",
            "50/51 [============================>.] - ETA: 0s - loss: 1.0121 - accuracy: 0.6294\n",
            "Epoch 86: saving model to model/keypoint_classifier\\keypoint_classifier.hdf5\n",
            "51/51 [==============================] - 0s 3ms/step - loss: 1.0111 - accuracy: 0.6296 - val_loss: 0.5961 - val_accuracy: 0.9190\n",
            "Epoch 87/1000\n",
            "51/51 [==============================] - ETA: 0s - loss: 1.0084 - accuracy: 0.6465\n",
            "Epoch 87: saving model to model/keypoint_classifier\\keypoint_classifier.hdf5\n",
            "51/51 [==============================] - 0s 3ms/step - loss: 1.0084 - accuracy: 0.6465 - val_loss: 0.6059 - val_accuracy: 0.9163\n",
            "Epoch 88/1000\n",
            "26/51 [==============>...............] - ETA: 0s - loss: 1.0396 - accuracy: 0.6331\n",
            "Epoch 88: saving model to model/keypoint_classifier\\keypoint_classifier.hdf5\n",
            "51/51 [==============================] - 0s 3ms/step - loss: 1.0204 - accuracy: 0.6387 - val_loss: 0.5939 - val_accuracy: 0.9131\n",
            "Epoch 89/1000\n",
            "51/51 [==============================] - ETA: 0s - loss: 1.0313 - accuracy: 0.6321\n",
            "Epoch 89: saving model to model/keypoint_classifier\\keypoint_classifier.hdf5\n",
            "51/51 [==============================] - 0s 4ms/step - loss: 1.0313 - accuracy: 0.6321 - val_loss: 0.6046 - val_accuracy: 0.9177\n",
            "Epoch 90/1000\n",
            "47/51 [==========================>...] - ETA: 0s - loss: 1.0088 - accuracy: 0.6340\n",
            "Epoch 90: saving model to model/keypoint_classifier\\keypoint_classifier.hdf5\n",
            "51/51 [==============================] - 0s 4ms/step - loss: 1.0106 - accuracy: 0.6330 - val_loss: 0.6060 - val_accuracy: 0.9172\n",
            "Epoch 91/1000\n",
            "44/51 [========================>.....] - ETA: 0s - loss: 1.0138 - accuracy: 0.6412\n",
            "Epoch 91: saving model to model/keypoint_classifier\\keypoint_classifier.hdf5\n",
            "51/51 [==============================] - 0s 4ms/step - loss: 1.0206 - accuracy: 0.6390 - val_loss: 0.6065 - val_accuracy: 0.9085\n",
            "Epoch 92/1000\n",
            "38/51 [=====================>........] - ETA: 0s - loss: 1.0322 - accuracy: 0.6316\n",
            "Epoch 92: saving model to model/keypoint_classifier\\keypoint_classifier.hdf5\n",
            "51/51 [==============================] - 0s 6ms/step - loss: 1.0255 - accuracy: 0.6296 - val_loss: 0.6037 - val_accuracy: 0.9071\n",
            "Epoch 93/1000\n",
            "47/51 [==========================>...] - ETA: 0s - loss: 0.9930 - accuracy: 0.6410\n",
            "Epoch 93: saving model to model/keypoint_classifier\\keypoint_classifier.hdf5\n",
            "51/51 [==============================] - 0s 5ms/step - loss: 0.9943 - accuracy: 0.6429 - val_loss: 0.5869 - val_accuracy: 0.9144\n",
            "Epoch 94/1000\n",
            "44/51 [========================>.....] - ETA: 0s - loss: 1.0021 - accuracy: 0.6445\n",
            "Epoch 94: saving model to model/keypoint_classifier\\keypoint_classifier.hdf5\n",
            "51/51 [==============================] - 0s 4ms/step - loss: 1.0014 - accuracy: 0.6452 - val_loss: 0.5969 - val_accuracy: 0.9108\n",
            "Epoch 95/1000\n",
            "47/51 [==========================>...] - ETA: 0s - loss: 0.9771 - accuracy: 0.6453\n",
            "Epoch 95: saving model to model/keypoint_classifier\\keypoint_classifier.hdf5\n",
            "51/51 [==============================] - 0s 4ms/step - loss: 0.9819 - accuracy: 0.6451 - val_loss: 0.6053 - val_accuracy: 0.9075\n",
            "Epoch 96/1000\n",
            "46/51 [==========================>...] - ETA: 0s - loss: 1.0125 - accuracy: 0.6391\n",
            "Epoch 96: saving model to model/keypoint_classifier\\keypoint_classifier.hdf5\n",
            "51/51 [==============================] - 0s 4ms/step - loss: 1.0091 - accuracy: 0.6411 - val_loss: 0.5927 - val_accuracy: 0.9140\n",
            "Epoch 97/1000\n",
            "28/51 [===============>..............] - ETA: 0s - loss: 1.0017 - accuracy: 0.6406\n",
            "Epoch 97: saving model to model/keypoint_classifier\\keypoint_classifier.hdf5\n",
            "51/51 [==============================] - 0s 3ms/step - loss: 0.9980 - accuracy: 0.6429 - val_loss: 0.5943 - val_accuracy: 0.9186\n",
            "Epoch 98/1000\n",
            "27/51 [==============>...............] - ETA: 0s - loss: 0.9650 - accuracy: 0.6583\n",
            "Epoch 98: saving model to model/keypoint_classifier\\keypoint_classifier.hdf5\n",
            "51/51 [==============================] - 0s 3ms/step - loss: 0.9927 - accuracy: 0.6443 - val_loss: 0.6082 - val_accuracy: 0.9149\n",
            "Epoch 99/1000\n",
            "51/51 [==============================] - ETA: 0s - loss: 0.9934 - accuracy: 0.6406\n",
            "Epoch 99: saving model to model/keypoint_classifier\\keypoint_classifier.hdf5\n",
            "51/51 [==============================] - 0s 3ms/step - loss: 0.9934 - accuracy: 0.6406 - val_loss: 0.5784 - val_accuracy: 0.9158\n",
            "Epoch 100/1000\n",
            "51/51 [==============================] - ETA: 0s - loss: 0.9833 - accuracy: 0.6319\n",
            "Epoch 100: saving model to model/keypoint_classifier\\keypoint_classifier.hdf5\n",
            "51/51 [==============================] - 0s 3ms/step - loss: 0.9833 - accuracy: 0.6319 - val_loss: 0.6060 - val_accuracy: 0.9085\n",
            "Epoch 101/1000\n",
            "48/51 [===========================>..] - ETA: 0s - loss: 0.9711 - accuracy: 0.6525\n",
            "Epoch 101: saving model to model/keypoint_classifier\\keypoint_classifier.hdf5\n",
            "51/51 [==============================] - 0s 4ms/step - loss: 0.9766 - accuracy: 0.6511 - val_loss: 0.5955 - val_accuracy: 0.9121\n",
            "Epoch 102/1000\n",
            "48/51 [===========================>..] - ETA: 0s - loss: 0.9799 - accuracy: 0.6484\n",
            "Epoch 102: saving model to model/keypoint_classifier\\keypoint_classifier.hdf5\n",
            "51/51 [==============================] - 0s 4ms/step - loss: 0.9833 - accuracy: 0.6466 - val_loss: 0.6090 - val_accuracy: 0.9108\n",
            "Epoch 103/1000\n",
            "50/51 [============================>.] - ETA: 0s - loss: 0.9739 - accuracy: 0.6464\n",
            "Epoch 103: saving model to model/keypoint_classifier\\keypoint_classifier.hdf5\n",
            "51/51 [==============================] - 0s 4ms/step - loss: 0.9721 - accuracy: 0.6485 - val_loss: 0.6033 - val_accuracy: 0.9098\n",
            "Epoch 104/1000\n",
            "34/51 [===================>..........] - ETA: 0s - loss: 0.9591 - accuracy: 0.6556\n",
            "Epoch 104: saving model to model/keypoint_classifier\\keypoint_classifier.hdf5\n",
            "51/51 [==============================] - 0s 4ms/step - loss: 0.9758 - accuracy: 0.6505 - val_loss: 0.5921 - val_accuracy: 0.9098\n",
            "Epoch 105/1000\n",
            "27/51 [==============>...............] - ETA: 0s - loss: 0.9592 - accuracy: 0.6565\n",
            "Epoch 105: saving model to model/keypoint_classifier\\keypoint_classifier.hdf5\n",
            "51/51 [==============================] - 0s 3ms/step - loss: 0.9648 - accuracy: 0.6535 - val_loss: 0.5930 - val_accuracy: 0.9126\n",
            "Epoch 106/1000\n",
            "29/51 [================>.............] - ETA: 0s - loss: 0.9697 - accuracy: 0.6522\n",
            "Epoch 106: saving model to model/keypoint_classifier\\keypoint_classifier.hdf5\n",
            "51/51 [==============================] - 0s 3ms/step - loss: 0.9734 - accuracy: 0.6497 - val_loss: 0.6009 - val_accuracy: 0.9098\n",
            "Epoch 107/1000\n",
            "28/51 [===============>..............] - ETA: 0s - loss: 0.9603 - accuracy: 0.6557\n",
            "Epoch 107: saving model to model/keypoint_classifier\\keypoint_classifier.hdf5\n",
            "51/51 [==============================] - 0s 3ms/step - loss: 0.9558 - accuracy: 0.6555 - val_loss: 0.5718 - val_accuracy: 0.9140\n",
            "Epoch 108/1000\n",
            "28/51 [===============>..............] - ETA: 0s - loss: 0.9887 - accuracy: 0.6443\n",
            "Epoch 108: saving model to model/keypoint_classifier\\keypoint_classifier.hdf5\n",
            "51/51 [==============================] - 0s 3ms/step - loss: 0.9766 - accuracy: 0.6485 - val_loss: 0.5802 - val_accuracy: 0.9172\n",
            "Epoch 109/1000\n",
            "29/51 [================>.............] - ETA: 0s - loss: 0.9715 - accuracy: 0.6519\n",
            "Epoch 109: saving model to model/keypoint_classifier\\keypoint_classifier.hdf5\n",
            "51/51 [==============================] - 0s 3ms/step - loss: 0.9634 - accuracy: 0.6572 - val_loss: 0.5875 - val_accuracy: 0.9080\n",
            "Epoch 110/1000\n",
            "29/51 [================>.............] - ETA: 0s - loss: 0.9850 - accuracy: 0.6379\n",
            "Epoch 110: saving model to model/keypoint_classifier\\keypoint_classifier.hdf5\n",
            "51/51 [==============================] - 0s 3ms/step - loss: 0.9731 - accuracy: 0.6445 - val_loss: 0.6051 - val_accuracy: 0.9034\n",
            "Epoch 111/1000\n",
            "28/51 [===============>..............] - ETA: 0s - loss: 0.9886 - accuracy: 0.6465\n",
            "Epoch 111: saving model to model/keypoint_classifier\\keypoint_classifier.hdf5\n",
            "51/51 [==============================] - 0s 3ms/step - loss: 0.9693 - accuracy: 0.6525 - val_loss: 0.5922 - val_accuracy: 0.9016\n",
            "Epoch 112/1000\n",
            "28/51 [===============>..............] - ETA: 0s - loss: 0.9585 - accuracy: 0.6585\n",
            "Epoch 112: saving model to model/keypoint_classifier\\keypoint_classifier.hdf5\n",
            "51/51 [==============================] - 0s 3ms/step - loss: 0.9661 - accuracy: 0.6534 - val_loss: 0.5840 - val_accuracy: 0.9071\n",
            "Epoch 113/1000\n",
            "30/51 [================>.............] - ETA: 0s - loss: 0.9538 - accuracy: 0.6523\n",
            "Epoch 113: saving model to model/keypoint_classifier\\keypoint_classifier.hdf5\n",
            "51/51 [==============================] - 0s 3ms/step - loss: 0.9554 - accuracy: 0.6483 - val_loss: 0.6043 - val_accuracy: 0.9052\n",
            "Epoch 114/1000\n",
            "27/51 [==============>...............] - ETA: 0s - loss: 0.9632 - accuracy: 0.6600\n",
            "Epoch 114: saving model to model/keypoint_classifier\\keypoint_classifier.hdf5\n",
            "51/51 [==============================] - 0s 3ms/step - loss: 0.9616 - accuracy: 0.6612 - val_loss: 0.5767 - val_accuracy: 0.9112\n",
            "Epoch 115/1000\n",
            "29/51 [================>.............] - ETA: 0s - loss: 0.9364 - accuracy: 0.6697\n",
            "Epoch 115: saving model to model/keypoint_classifier\\keypoint_classifier.hdf5\n",
            "51/51 [==============================] - 0s 3ms/step - loss: 0.9463 - accuracy: 0.6670 - val_loss: 0.5859 - val_accuracy: 0.8970\n",
            "Epoch 116/1000\n",
            "27/51 [==============>...............] - ETA: 0s - loss: 0.9637 - accuracy: 0.6534\n",
            "Epoch 116: saving model to model/keypoint_classifier\\keypoint_classifier.hdf5\n",
            "51/51 [==============================] - 0s 3ms/step - loss: 0.9609 - accuracy: 0.6535 - val_loss: 0.5942 - val_accuracy: 0.9121\n",
            "Epoch 117/1000\n",
            "27/51 [==============>...............] - ETA: 0s - loss: 0.9727 - accuracy: 0.6496\n",
            "Epoch 117: saving model to model/keypoint_classifier\\keypoint_classifier.hdf5\n",
            "51/51 [==============================] - 0s 3ms/step - loss: 0.9497 - accuracy: 0.6597 - val_loss: 0.5773 - val_accuracy: 0.9163\n",
            "Epoch 118/1000\n",
            "30/51 [================>.............] - ETA: 0s - loss: 0.9549 - accuracy: 0.6615\n",
            "Epoch 118: saving model to model/keypoint_classifier\\keypoint_classifier.hdf5\n",
            "51/51 [==============================] - 0s 3ms/step - loss: 0.9560 - accuracy: 0.6627 - val_loss: 0.5904 - val_accuracy: 0.9135\n",
            "Epoch 119/1000\n",
            "42/51 [=======================>......] - ETA: 0s - loss: 0.9363 - accuracy: 0.6670\n",
            "Epoch 119: saving model to model/keypoint_classifier\\keypoint_classifier.hdf5\n",
            "51/51 [==============================] - 0s 4ms/step - loss: 0.9382 - accuracy: 0.6660 - val_loss: 0.6026 - val_accuracy: 0.8993\n",
            "Epoch 120/1000\n",
            "26/51 [==============>...............] - ETA: 0s - loss: 0.9243 - accuracy: 0.6689\n",
            "Epoch 120: saving model to model/keypoint_classifier\\keypoint_classifier.hdf5\n",
            "51/51 [==============================] - 0s 3ms/step - loss: 0.9595 - accuracy: 0.6544 - val_loss: 0.5937 - val_accuracy: 0.9011\n",
            "Epoch 121/1000\n",
            "28/51 [===============>..............] - ETA: 0s - loss: 0.9445 - accuracy: 0.6557\n",
            "Epoch 121: saving model to model/keypoint_classifier\\keypoint_classifier.hdf5\n",
            "51/51 [==============================] - 0s 3ms/step - loss: 0.9509 - accuracy: 0.6535 - val_loss: 0.5742 - val_accuracy: 0.9135\n",
            "Epoch 122/1000\n",
            "49/51 [===========================>..] - ETA: 0s - loss: 0.9425 - accuracy: 0.6647\n",
            "Epoch 122: saving model to model/keypoint_classifier\\keypoint_classifier.hdf5\n",
            "51/51 [==============================] - 0s 4ms/step - loss: 0.9413 - accuracy: 0.6655 - val_loss: 0.5787 - val_accuracy: 0.9048\n",
            "Epoch 123/1000\n",
            "30/51 [================>.............] - ETA: 0s - loss: 0.9426 - accuracy: 0.6635\n",
            "Epoch 123: saving model to model/keypoint_classifier\\keypoint_classifier.hdf5\n",
            "51/51 [==============================] - 0s 3ms/step - loss: 0.9581 - accuracy: 0.6535 - val_loss: 0.5931 - val_accuracy: 0.9006\n",
            "Epoch 124/1000\n",
            "28/51 [===============>..............] - ETA: 0s - loss: 0.9634 - accuracy: 0.6515\n",
            "Epoch 124: saving model to model/keypoint_classifier\\keypoint_classifier.hdf5\n",
            "51/51 [==============================] - 0s 3ms/step - loss: 0.9520 - accuracy: 0.6580 - val_loss: 0.5687 - val_accuracy: 0.9085\n",
            "Epoch 125/1000\n",
            "31/51 [=================>............] - ETA: 0s - loss: 0.9528 - accuracy: 0.6527\n",
            "Epoch 125: saving model to model/keypoint_classifier\\keypoint_classifier.hdf5\n",
            "51/51 [==============================] - 0s 3ms/step - loss: 0.9413 - accuracy: 0.6609 - val_loss: 0.5722 - val_accuracy: 0.9089\n",
            "Epoch 126/1000\n",
            "28/51 [===============>..............] - ETA: 0s - loss: 0.9616 - accuracy: 0.6682\n",
            "Epoch 126: saving model to model/keypoint_classifier\\keypoint_classifier.hdf5\n",
            "51/51 [==============================] - 0s 3ms/step - loss: 0.9523 - accuracy: 0.6661 - val_loss: 0.6024 - val_accuracy: 0.8993\n",
            "Epoch 127/1000\n",
            "51/51 [==============================] - ETA: 0s - loss: 0.9479 - accuracy: 0.6566\n",
            "Epoch 127: saving model to model/keypoint_classifier\\keypoint_classifier.hdf5\n",
            "51/51 [==============================] - 0s 4ms/step - loss: 0.9479 - accuracy: 0.6566 - val_loss: 0.5749 - val_accuracy: 0.9098\n",
            "Epoch 128/1000\n",
            "27/51 [==============>...............] - ETA: 0s - loss: 0.9337 - accuracy: 0.6612\n",
            "Epoch 128: saving model to model/keypoint_classifier\\keypoint_classifier.hdf5\n",
            "51/51 [==============================] - 0s 3ms/step - loss: 0.9431 - accuracy: 0.6618 - val_loss: 0.5930 - val_accuracy: 0.9025\n",
            "Epoch 129/1000\n",
            "28/51 [===============>..............] - ETA: 0s - loss: 0.9549 - accuracy: 0.6660\n",
            "Epoch 129: saving model to model/keypoint_classifier\\keypoint_classifier.hdf5\n",
            "51/51 [==============================] - 0s 3ms/step - loss: 0.9567 - accuracy: 0.6615 - val_loss: 0.5796 - val_accuracy: 0.9108\n",
            "Epoch 130/1000\n",
            "29/51 [================>.............] - ETA: 0s - loss: 0.9306 - accuracy: 0.6676\n",
            "Epoch 130: saving model to model/keypoint_classifier\\keypoint_classifier.hdf5\n",
            "51/51 [==============================] - 0s 3ms/step - loss: 0.9412 - accuracy: 0.6623 - val_loss: 0.6063 - val_accuracy: 0.8997\n",
            "Epoch 131/1000\n",
            "30/51 [================>.............] - ETA: 0s - loss: 0.9348 - accuracy: 0.6549\n",
            "Epoch 131: saving model to model/keypoint_classifier\\keypoint_classifier.hdf5\n",
            "51/51 [==============================] - 0s 3ms/step - loss: 0.9333 - accuracy: 0.6594 - val_loss: 0.5988 - val_accuracy: 0.9002\n",
            "Epoch 132/1000\n",
            "30/51 [================>.............] - ETA: 0s - loss: 0.9592 - accuracy: 0.6557\n",
            "Epoch 132: saving model to model/keypoint_classifier\\keypoint_classifier.hdf5\n",
            "51/51 [==============================] - 0s 3ms/step - loss: 0.9484 - accuracy: 0.6589 - val_loss: 0.5870 - val_accuracy: 0.9057\n",
            "Epoch 133/1000\n",
            "27/51 [==============>...............] - ETA: 0s - loss: 0.9090 - accuracy: 0.6739\n",
            "Epoch 133: saving model to model/keypoint_classifier\\keypoint_classifier.hdf5\n",
            "51/51 [==============================] - 0s 4ms/step - loss: 0.9126 - accuracy: 0.6715 - val_loss: 0.5794 - val_accuracy: 0.9085\n",
            "Epoch 134/1000\n",
            "48/51 [===========================>..] - ETA: 0s - loss: 0.9524 - accuracy: 0.6556\n",
            "Epoch 134: saving model to model/keypoint_classifier\\keypoint_classifier.hdf5\n",
            "51/51 [==============================] - 0s 4ms/step - loss: 0.9460 - accuracy: 0.6574 - val_loss: 0.6117 - val_accuracy: 0.9002\n",
            "Epoch 135/1000\n",
            "27/51 [==============>...............] - ETA: 0s - loss: 0.9476 - accuracy: 0.6710\n",
            "Epoch 135: saving model to model/keypoint_classifier\\keypoint_classifier.hdf5\n",
            "51/51 [==============================] - 0s 3ms/step - loss: 0.9297 - accuracy: 0.6701 - val_loss: 0.5701 - val_accuracy: 0.9135\n",
            "Epoch 136/1000\n",
            "28/51 [===============>..............] - ETA: 0s - loss: 0.9486 - accuracy: 0.6546\n",
            "Epoch 136: saving model to model/keypoint_classifier\\keypoint_classifier.hdf5\n",
            "51/51 [==============================] - 0s 3ms/step - loss: 0.9400 - accuracy: 0.6621 - val_loss: 0.5884 - val_accuracy: 0.9048\n",
            "Epoch 137/1000\n",
            "28/51 [===============>..............] - ETA: 0s - loss: 0.9378 - accuracy: 0.6596\n",
            "Epoch 137: saving model to model/keypoint_classifier\\keypoint_classifier.hdf5\n",
            "51/51 [==============================] - 0s 3ms/step - loss: 0.9338 - accuracy: 0.6650 - val_loss: 0.5747 - val_accuracy: 0.9103\n",
            "Epoch 138/1000\n",
            "27/51 [==============>...............] - ETA: 0s - loss: 0.9420 - accuracy: 0.6594\n",
            "Epoch 138: saving model to model/keypoint_classifier\\keypoint_classifier.hdf5\n",
            "51/51 [==============================] - 0s 3ms/step - loss: 0.9369 - accuracy: 0.6590 - val_loss: 0.6069 - val_accuracy: 0.8947\n",
            "Epoch 139/1000\n",
            "27/51 [==============>...............] - ETA: 0s - loss: 0.9242 - accuracy: 0.6664\n",
            "Epoch 139: saving model to model/keypoint_classifier\\keypoint_classifier.hdf5\n",
            "51/51 [==============================] - 0s 3ms/step - loss: 0.9397 - accuracy: 0.6653 - val_loss: 0.5996 - val_accuracy: 0.8979\n",
            "Epoch 140/1000\n",
            "50/51 [============================>.] - ETA: 0s - loss: 0.9206 - accuracy: 0.6650\n",
            "Epoch 140: saving model to model/keypoint_classifier\\keypoint_classifier.hdf5\n",
            "51/51 [==============================] - 0s 3ms/step - loss: 0.9197 - accuracy: 0.6640 - val_loss: 0.5876 - val_accuracy: 0.9057\n",
            "Epoch 141/1000\n",
            "29/51 [================>.............] - ETA: 0s - loss: 0.9288 - accuracy: 0.6681\n",
            "Epoch 141: saving model to model/keypoint_classifier\\keypoint_classifier.hdf5\n",
            "51/51 [==============================] - 0s 3ms/step - loss: 0.9335 - accuracy: 0.6684 - val_loss: 0.5825 - val_accuracy: 0.9034\n",
            "Epoch 142/1000\n",
            "29/51 [================>.............] - ETA: 0s - loss: 0.9044 - accuracy: 0.6770\n",
            "Epoch 142: saving model to model/keypoint_classifier\\keypoint_classifier.hdf5\n",
            "51/51 [==============================] - 0s 3ms/step - loss: 0.9103 - accuracy: 0.6730 - val_loss: 0.5802 - val_accuracy: 0.9011\n",
            "Epoch 143/1000\n",
            "29/51 [================>.............] - ETA: 0s - loss: 0.9339 - accuracy: 0.6770\n",
            "Epoch 143: saving model to model/keypoint_classifier\\keypoint_classifier.hdf5\n",
            "51/51 [==============================] - 0s 3ms/step - loss: 0.9399 - accuracy: 0.6679 - val_loss: 0.5849 - val_accuracy: 0.9016\n",
            "Epoch 144/1000\n",
            "28/51 [===============>..............] - ETA: 0s - loss: 0.9306 - accuracy: 0.6629\n",
            "Epoch 144: saving model to model/keypoint_classifier\\keypoint_classifier.hdf5\n",
            "51/51 [==============================] - 0s 3ms/step - loss: 0.9320 - accuracy: 0.6609 - val_loss: 0.5951 - val_accuracy: 0.9043\n",
            "Epoch 144: early stopping\n"
          ]
        },
        {
          "data": {
            "text/plain": [
              "<keras.src.callbacks.History at 0x277aae477f0>"
            ]
          },
          "execution_count": 12,
          "metadata": {},
          "output_type": "execute_result"
        }
      ],
      "source": [
        "model.fit(\n",
        "    X_train,\n",
        "    y_train,\n",
        "    epochs=1000,\n",
        "    batch_size=128,\n",
        "    validation_data=(X_test, y_test),\n",
        "    callbacks=[cp_callback, es_callback]\n",
        ")"
      ]
    },
    {
      "cell_type": "code",
      "execution_count": 13,
      "metadata": {
        "colab": {
          "base_uri": "https://localhost:8080/"
        },
        "id": "pxvb2Y299hE3",
        "outputId": "59eb3185-2e37-4b9e-bc9d-ab1b8ac29b7f"
      },
      "outputs": [
        {
          "name": "stdout",
          "output_type": "stream",
          "text": [
            "17/17 [==============================] - 0s 2ms/step - loss: 0.5951 - accuracy: 0.9043\n"
          ]
        }
      ],
      "source": [
        "# Model evaluation\n",
        "val_loss, val_acc = model.evaluate(X_test, y_test, batch_size=128)"
      ]
    },
    {
      "cell_type": "code",
      "execution_count": 14,
      "metadata": {
        "id": "RBkmDeUW9hE4"
      },
      "outputs": [],
      "source": [
        "# Loading the saved model\n",
        "model = tf.keras.models.load_model(model_save_path)"
      ]
    },
    {
      "cell_type": "code",
      "execution_count": 15,
      "metadata": {
        "colab": {
          "base_uri": "https://localhost:8080/"
        },
        "id": "tFz9Tb0I9hE4",
        "outputId": "1c3b3528-54ae-4ee2-ab04-77429211cbef"
      },
      "outputs": [
        {
          "name": "stdout",
          "output_type": "stream",
          "text": [
            "1/1 [==============================] - 0s 82ms/step\n",
            "[5.3570813e-01 4.0835220e-02 6.6666071e-05 1.1265726e-01 1.2139711e-04\n",
            " 1.5328903e-01 2.6200442e-02 1.3040648e-01 7.1535719e-04]\n",
            "0\n"
          ]
        }
      ],
      "source": [
        "# Inference test\n",
        "predict_result = model.predict(np.array([X_test[0]]))\n",
        "print(np.squeeze(predict_result))\n",
        "print(np.argmax(np.squeeze(predict_result)))"
      ]
    },
    {
      "cell_type": "markdown",
      "metadata": {
        "id": "S3U4yNWx9hE4"
      },
      "source": [
        "# Confusion matrix"
      ]
    },
    {
      "cell_type": "code",
      "execution_count": 16,
      "metadata": {
        "colab": {
          "base_uri": "https://localhost:8080/",
          "height": 582
        },
        "id": "AP1V6SCk9hE5",
        "outputId": "08e41a80-7a4a-4619-8125-ecc371368d19"
      },
      "outputs": [
        {
          "name": "stdout",
          "output_type": "stream",
          "text": [
            "68/68 [==============================] - 0s 1ms/step\n"
          ]
        },
        {
          "data": {
            "image/png": "[encoded data removed]",
            "text/plain": [
              "<Figure size 700x600 with 2 Axes>"
            ]
          },
          "metadata": {},
          "output_type": "display_data"
        },
        {
          "name": "stdout",
          "output_type": "stream",
          "text": [
            "Classification Report\n",
            "              precision    recall  f1-score   support\n",
            "\n",
            "           0       0.94      0.86      0.90       433\n",
            "           1       0.87      0.89      0.88       436\n",
            "           2       0.88      0.98      0.92       365\n",
            "           3       1.00      0.96      0.98       145\n",
            "           4       0.97      0.96      0.96       184\n",
            "           5       0.80      0.88      0.84       271\n",
            "           6       0.97      0.95      0.96       155\n",
            "           7       0.95      0.65      0.77        89\n",
            "           8       1.00      0.92      0.96        96\n",
            "\n",
            "    accuracy                           0.90      2174\n",
            "   macro avg       0.93      0.89      0.91      2174\n",
            "weighted avg       0.91      0.90      0.90      2174\n",
            "\n"
          ]
        }
      ],
      "source": [
        "import pandas as pd\n",
        "import seaborn as sns\n",
        "import matplotlib.pyplot as plt\n",
        "from sklearn.metrics import confusion_matrix, classification_report\n",
        "\n",
        "def print_confusion_matrix(y_true, y_pred, report=True):\n",
        "    labels = sorted(list(set(y_true)))\n",
        "    cmx_data = confusion_matrix(y_true, y_pred, labels=labels)\n",
        "    \n",
        "    df_cmx = pd.DataFrame(cmx_data, index=labels, columns=labels)\n",
        " \n",
        "    fig, ax = plt.subplots(figsize=(7, 6))\n",
        "    sns.heatmap(df_cmx, annot=True, fmt='g' ,square=False)\n",
        "    ax.set_ylim(len(set(y_true)), 0)\n",
        "    plt.show()\n",
        "    \n",
        "    if report:\n",
        "        print('Classification Report')\n",
        "        print(classification_report(y_test, y_pred))\n",
        "\n",
        "Y_pred = model.predict(X_test)\n",
        "y_pred = np.argmax(Y_pred, axis=1)\n",
        "\n",
        "print_confusion_matrix(y_test, y_pred)"
      ]
    },
    {
      "cell_type": "markdown",
      "metadata": {
        "id": "FNP6aqzc9hE5"
      },
      "source": [
        "# Convert to model for Tensorflow-Lite"
      ]
    },
    {
      "cell_type": "code",
      "execution_count": 17,
      "metadata": {
        "id": "ODjnYyld9hE6"
      },
      "outputs": [
        {
          "name": "stderr",
          "output_type": "stream",
          "text": [
            "C:\\Users\\jorge\\AppData\\Roaming\\Python\\Python38\\site-packages\\keras\\src\\engine\\training.py:3000: UserWarning: You are saving your model as an HDF5 file via `model.save()`. This file format is considered legacy. We recommend using instead the native Keras format, e.g. `model.save('my_model.keras')`.\n",
            "  saving_api.save_model(\n"
          ]
        }
      ],
      "source": [
        "# Save as a model dedicated to inference\n",
        "model.save(model_save_path, include_optimizer=False)"
      ]
    },
    {
      "cell_type": "code",
      "execution_count": 18,
      "metadata": {
        "colab": {
          "base_uri": "https://localhost:8080/"
        },
        "id": "zRfuK8Y59hE6",
        "outputId": "a4ca585c-b5d5-4244-8291-8674063209bb"
      },
      "outputs": [
        {
          "name": "stdout",
          "output_type": "stream",
          "text": [
            "INFO:tensorflow:Assets written to: C:\\Users\\jorge\\AppData\\Local\\Temp\\tmpbm0604bw\\assets\n"
          ]
        },
        {
          "name": "stderr",
          "output_type": "stream",
          "text": [
            "INFO:tensorflow:Assets written to: C:\\Users\\jorge\\AppData\\Local\\Temp\\tmpbm0604bw\\assets\n"
          ]
        },
        {
          "data": {
            "text/plain": [
              "6764"
            ]
          },
          "execution_count": 18,
          "metadata": {},
          "output_type": "execute_result"
        }
      ],
      "source": [
        "# Transform model (quantization)\n",
        "\n",
        "converter = tf.lite.TFLiteConverter.from_keras_model(model)\n",
        "converter.optimizations = [tf.lite.Optimize.DEFAULT]\n",
        "tflite_quantized_model = converter.convert()\n",
        "\n",
        "open(tflite_save_path, 'wb').write(tflite_quantized_model)"
      ]
    },
    {
      "cell_type": "markdown",
      "metadata": {
        "id": "CHBPBXdx9hE6"
      },
      "source": [
        "# Inference test"
      ]
    },
    {
      "cell_type": "code",
      "execution_count": 19,
      "metadata": {
        "id": "mGAzLocO9hE7"
      },
      "outputs": [],
      "source": [
        "interpreter = tf.lite.Interpreter(model_path=tflite_save_path)\n",
        "interpreter.allocate_tensors()"
      ]
    },
    {
      "cell_type": "code",
      "execution_count": 20,
      "metadata": {
        "id": "oQuDK8YS9hE7"
      },
      "outputs": [],
      "source": [
        "# Get I / O tensor\n",
        "input_details = interpreter.get_input_details()\n",
        "output_details = interpreter.get_output_details()"
      ]
    },
    {
      "cell_type": "code",
      "execution_count": 21,
      "metadata": {
        "id": "2_ixAf_l9hE7"
      },
      "outputs": [],
      "source": [
        "interpreter.set_tensor(input_details[0]['index'], np.array([X_test[0]]))"
      ]
    },
    {
      "cell_type": "code",
      "execution_count": 22,
      "metadata": {
        "colab": {
          "base_uri": "https://localhost:8080/"
        },
        "id": "s4FoAnuc9hE7",
        "outputId": "91f18257-8d8b-4ef3-c558-e9b5f94fabbf",
        "scrolled": true
      },
      "outputs": [
        {
          "name": "stdout",
          "output_type": "stream",
          "text": [
            "CPU times: total: 0 ns\n",
            "Wall time: 0 ns\n"
          ]
        }
      ],
      "source": [
        "%%time\n",
        "# Inference implementation\n",
        "interpreter.invoke()\n",
        "tflite_results = interpreter.get_tensor(output_details[0]['index'])"
      ]
    },
    {
      "cell_type": "code",
      "execution_count": 23,
      "metadata": {
        "colab": {
          "base_uri": "https://localhost:8080/"
        },
        "id": "vONjp19J9hE8",
        "outputId": "77205e24-fd00-42c4-f7b6-e06e527c2cba"
      },
      "outputs": [
        {
          "name": "stdout",
          "output_type": "stream",
          "text": [
            "[5.3570819e-01 4.0835213e-02 6.6666005e-05 1.1265734e-01 1.2139700e-04\n",
            " 1.5328899e-01 2.6200445e-02 1.3040650e-01 7.1535696e-04]\n",
            "0\n"
          ]
        }
      ],
      "source": [
        "print(np.squeeze(tflite_results))\n",
        "print(np.argmax(np.squeeze(tflite_results)))"
      ]
    },
    {
      "cell_type": "code",
      "execution_count": 24,
      "metadata": {},
      "outputs": [
        {
          "name": "stderr",
          "output_type": "stream",
          "text": [
            "C:\\Users\\jorge\\AppData\\Roaming\\Python\\Python38\\site-packages\\keras\\src\\engine\\training.py:3000: UserWarning: You are saving your model as an HDF5 file via `model.save()`. This file format is considered legacy. We recommend using instead the native Keras format, e.g. `model.save('my_model.keras')`.\n",
            "  saving_api.save_model(\n"
          ]
        }
      ],
      "source": [
        "model.save('modeloseñas.h5')"
      ]
    }
  ],
  "metadata": {
    "accelerator": "GPU",
    "colab": {
      "collapsed_sections": [],
      "name": "keypoint_classification_EN.ipynb",
      "provenance": [],
      "toc_visible": true
    },
    "kernelspec": {
      "display_name": "Python 3",
      "language": "python",
      "name": "python3"
    },
    "language_info": {
      "codemirror_mode": {
        "name": "ipython",
        "version": 3
      },
      "file_extension": ".py",
      "mimetype": "text/x-python",
      "name": "python",
      "nbconvert_exporter": "python",
      "pygments_lexer": "ipython3",
      "version": "3.8.10"
    }
  },
  "nbformat": 4,
  "nbformat_minor": 0
}
